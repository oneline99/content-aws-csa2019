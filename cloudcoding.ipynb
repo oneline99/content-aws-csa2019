{
  "nbformat": 4,
  "nbformat_minor": 0,
  "metadata": {
    "colab": {
      "name": "cloudcoding.ipynb",
      "provenance": [],
      "authorship_tag": "ABX9TyNLxvIaROnOq7a3rZD0xzvg",
      "include_colab_link": true
    },
    "kernelspec": {
      "name": "python3",
      "display_name": "Python 3"
    }
  },
  "cells": [
    {
      "cell_type": "markdown",
      "metadata": {
        "id": "view-in-github",
        "colab_type": "text"
      },
      "source": [
        "<a href=\"https://colab.research.google.com/github/oneline99/cloudcoding/blob/master/cloudcoding.ipynb\" target=\"_parent\"><img src=\"https://colab.research.google.com/assets/colab-badge.svg\" alt=\"Open In Colab\"/></a>"
      ]
    },
    {
      "cell_type": "markdown",
      "metadata": {
        "id": "MzH2xw4YHYV1"
      },
      "source": [
        "# **Introduction to F5 Python SDK**\n"
      ]
    },
    {
      "cell_type": "markdown",
      "metadata": {
        "id": "y5e94irDHXnR"
      },
      "source": [
        "## **What is Python?**\n",
        "Python is a popular programming language created since 1991, widely used for:\n",
        "\n",
        "* web development (server-side) and software development,\n",
        "* mathematics, analytics and machine learning\n",
        "* system scripting\n",
        "\n",
        "### **What can Python do?**\n",
        "* Python can be used on a server to create web applications.\n",
        "* Python can be used alongside software to create workflows.\n",
        "* Python can connect to database systems. It can also read and modify files.\n",
        "* Python can be used to handle big data and perform complex mathematics.\n",
        "* Python can be used for rapid prototyping, or for production-ready software development.\n",
        "\n",
        "### **Why Python?**\n",
        "* Python works on different platforms (Windows, Mac, Linux, Raspberry Pi, etc).\n",
        "* Python has a simple syntax similar to the English language.\n",
        "* Python has syntax that allows developers to write programs with fewer lines comapared to other programming languages.\n",
        "* Python code can be executed as soon as it is written, meaning that prototyping can be very quick.\n",
        "\n",
        "### **Fun Facts**\n",
        "* Cloud Coding is the brainchild of Charles Chong, and the initiative is supported by JC Kwon.\n",
        "* The intention is to enable non-developers to experience fun with coding, and allow students to continue to code on their own after the lessons via an online coding platform.\n",
        "* Google Colab enables interactive coding using Jupyter Notebook, which allows coding to be performed on both online and offline platforms. \n",
        "\n",
        "### **Python Syntax compared to other programming languages**\n",
        "* Python uses new lines to complete a command, as opposed to other programming languages which often use semicolons or parentheses.\n",
        "* Python relies on indentation, using whitespace, to define scope; such as the scope of loops, functions and classes. Other programming languages often use curly-brackets for this purpose.\n",
        "\n"
      ]
    },
    {
      "cell_type": "markdown",
      "metadata": {
        "id": "AedIlms4HgsG"
      },
      "source": [
        "## **Let's Start! What to expect?** \n",
        "In this short lesson, you will learn to install F5 SDK Python Module. F5 SDk Module allows specific actions or functions to be called by Python. The module witll interact with F5 through API calls and coders need not make API calls in their codes. This allows developers to quickly compile info or make changes to F5 services.\n",
        "\n",
        "Python modules are installed using PIP, which is a package/module manager for Python. Modules/packages are normally installed for specific environment and not global environment, which helps to reduce unneccesary coding footprint."
      ]
    },
    {
      "cell_type": "markdown",
      "metadata": {
        "id": "DGdT08QeHso0"
      },
      "source": [
        "## **Step 1. Run PIP to install F5 SDK**\n",
        "Click on the run button to execute the command. You can also try to re-type the command and execute it."
      ]
    },
    {
      "cell_type": "code",
      "metadata": {
        "id": "xW27gkBYHun8",
        "outputId": "a00e0ea2-b5bf-44e1-f73b-53fef1355456",
        "colab": {
          "base_uri": "https://localhost:8080/"
        }
      },
      "source": [
        "# install F5-SDK Packages\n",
        "!pip install f5-sdk-python"
      ],
      "execution_count": 1,
      "outputs": [
        {
          "output_type": "stream",
          "text": [
            "Collecting f5-sdk-python\n",
            "\u001b[?25l  Downloading https://files.pythonhosted.org/packages/3e/51/8ae3bbe25eb5fa3cca0efe940451fe2b706fdcf3654d2bb62fabd4b518e0/f5_sdk_python-0.9.2-py3-none-any.whl (60kB)\n",
            "\r\u001b[K     |█████▍                          | 10kB 17.2MB/s eta 0:00:01\r\u001b[K     |██████████▉                     | 20kB 2.2MB/s eta 0:00:01\r\u001b[K     |████████████████▎               | 30kB 2.6MB/s eta 0:00:01\r\u001b[K     |█████████████████████▊          | 40kB 3.0MB/s eta 0:00:01\r\u001b[K     |███████████████████████████▏    | 51kB 2.5MB/s eta 0:00:01\r\u001b[K     |████████████████████████████████| 61kB 2.0MB/s \n",
            "\u001b[?25hCollecting retry>=0\n",
            "  Downloading https://files.pythonhosted.org/packages/4b/0d/53aea75710af4528a25ed6837d71d117602b01946b307a3912cb3cfcbcba/retry-0.9.2-py2.py3-none-any.whl\n",
            "Requirement already satisfied: requests>=2 in /usr/local/lib/python3.6/dist-packages (from f5-sdk-python) (2.23.0)\n",
            "Collecting paramiko>=2\n",
            "\u001b[?25l  Downloading https://files.pythonhosted.org/packages/95/19/124e9287b43e6ff3ebb9cdea3e5e8e88475a873c05ccdf8b7e20d2c4201e/paramiko-2.7.2-py2.py3-none-any.whl (206kB)\n",
            "\u001b[K     |████████████████████████████████| 215kB 9.2MB/s \n",
            "\u001b[?25hRequirement already satisfied: py<2.0.0,>=1.4.26 in /usr/local/lib/python3.6/dist-packages (from retry>=0->f5-sdk-python) (1.9.0)\n",
            "Requirement already satisfied: decorator>=3.4.2 in /usr/local/lib/python3.6/dist-packages (from retry>=0->f5-sdk-python) (4.4.2)\n",
            "Requirement already satisfied: urllib3!=1.25.0,!=1.25.1,<1.26,>=1.21.1 in /usr/local/lib/python3.6/dist-packages (from requests>=2->f5-sdk-python) (1.24.3)\n",
            "Requirement already satisfied: chardet<4,>=3.0.2 in /usr/local/lib/python3.6/dist-packages (from requests>=2->f5-sdk-python) (3.0.4)\n",
            "Requirement already satisfied: certifi>=2017.4.17 in /usr/local/lib/python3.6/dist-packages (from requests>=2->f5-sdk-python) (2020.6.20)\n",
            "Requirement already satisfied: idna<3,>=2.5 in /usr/local/lib/python3.6/dist-packages (from requests>=2->f5-sdk-python) (2.10)\n",
            "Collecting bcrypt>=3.1.3\n",
            "\u001b[?25l  Downloading https://files.pythonhosted.org/packages/26/70/6d218afbe4c73538053c1016dd631e8f25fffc10cd01f5c272d7acf3c03d/bcrypt-3.2.0-cp36-abi3-manylinux2010_x86_64.whl (63kB)\n",
            "\u001b[K     |████████████████████████████████| 71kB 7.8MB/s \n",
            "\u001b[?25hCollecting pynacl>=1.0.1\n",
            "\u001b[?25l  Downloading https://files.pythonhosted.org/packages/9d/57/2f5e6226a674b2bcb6db531e8b383079b678df5b10cdaa610d6cf20d77ba/PyNaCl-1.4.0-cp35-abi3-manylinux1_x86_64.whl (961kB)\n",
            "\u001b[K     |████████████████████████████████| 962kB 25.6MB/s \n",
            "\u001b[?25hCollecting cryptography>=2.5\n",
            "\u001b[?25l  Downloading https://files.pythonhosted.org/packages/4c/a2/6565c5271a79e3c96d7a079053b4d8408a740d4bf365f0f5f244a807bd09/cryptography-3.2.1-cp35-abi3-manylinux2010_x86_64.whl (2.6MB)\n",
            "\u001b[K     |████████████████████████████████| 2.6MB 49.2MB/s \n",
            "\u001b[?25hRequirement already satisfied: six>=1.4.1 in /usr/local/lib/python3.6/dist-packages (from bcrypt>=3.1.3->paramiko>=2->f5-sdk-python) (1.15.0)\n",
            "Requirement already satisfied: cffi>=1.1 in /usr/local/lib/python3.6/dist-packages (from bcrypt>=3.1.3->paramiko>=2->f5-sdk-python) (1.14.3)\n",
            "Requirement already satisfied: pycparser in /usr/local/lib/python3.6/dist-packages (from cffi>=1.1->bcrypt>=3.1.3->paramiko>=2->f5-sdk-python) (2.20)\n",
            "Installing collected packages: retry, bcrypt, pynacl, cryptography, paramiko, f5-sdk-python\n",
            "Successfully installed bcrypt-3.2.0 cryptography-3.2.1 f5-sdk-python-0.9.2 paramiko-2.7.2 pynacl-1.4.0 retry-0.9.2\n"
          ],
          "name": "stdout"
        }
      ]
    },
    {
      "cell_type": "markdown",
      "metadata": {
        "id": "Zhv66zuyH2ff"
      },
      "source": [
        "## **Step 2. Get ready to Code. Import F5 SDK functions**\n",
        "This single line of code imports ManagementClient function, which is a Python script to connect to F5 devices."
      ]
    },
    {
      "cell_type": "code",
      "metadata": {
        "id": "hPY8TMuZHzPM"
      },
      "source": [
        "#import ManagementClient\n",
        "from f5sdk.bigip import ManagementClient"
      ],
      "execution_count": 2,
      "outputs": []
    },
    {
      "cell_type": "code",
      "metadata": {
        "id": "ilspv4FzIAGu",
        "outputId": "4281c2ca-53a2-4eae-cae2-18732897340d",
        "colab": {
          "base_uri": "https://localhost:8080/"
        }
      },
      "source": [
        "device = ManagementClient('54.151.170.57', user='admin', password='PythoN@3')\n",
        "device.get_info()"
      ],
      "execution_count": 3,
      "outputs": [
        {
          "output_type": "stream",
          "text": [
            "2020-11-04 07:27:02,016 - f5sdk.utils.http_utils - WARNING: SSL Insecure request, recommend adding a valid certificate to the device\n",
            "2020-11-04 07:27:03,062 - f5sdk.utils.http_utils - WARNING: SSL Insecure request, recommend adding a valid certificate to the device\n",
            "2020-11-04 07:27:03,980 - f5sdk.utils.http_utils - WARNING: SSL Insecure request, recommend adding a valid certificate to the device\n"
          ],
          "name": "stderr"
        },
        {
          "output_type": "execute_result",
          "data": {
            "text/plain": [
              "{'version': '15.1.1'}"
            ]
          },
          "metadata": {
            "tags": []
          },
          "execution_count": 3
        }
      ]
    },
    {
      "cell_type": "markdown",
      "metadata": {
        "id": "vaS8qhO2ISON"
      },
      "source": [
        "Install IPStack package to gather GeoIP Information. You can use the provided token or sign up for a token from ipstack.com"
      ]
    },
    {
      "cell_type": "code",
      "metadata": {
        "id": "LE-qc04FIRZk",
        "outputId": "6c5256a5-5b83-4637-95b5-517b749784ae",
        "colab": {
          "base_uri": "https://localhost:8080/"
        }
      },
      "source": [
        "!pip install ipstack"
      ],
      "execution_count": 4,
      "outputs": [
        {
          "output_type": "stream",
          "text": [
            "Collecting ipstack\n",
            "  Downloading https://files.pythonhosted.org/packages/c0/dc/e884c21727c536f69ce005d770b23b58bb0c8675af4f2ced485451f5b490/ipstack-0.1.4-py3-none-any.whl\n",
            "Requirement already satisfied: requests in /usr/local/lib/python3.6/dist-packages (from ipstack) (2.23.0)\n",
            "Requirement already satisfied: urllib3!=1.25.0,!=1.25.1,<1.26,>=1.21.1 in /usr/local/lib/python3.6/dist-packages (from requests->ipstack) (1.24.3)\n",
            "Requirement already satisfied: certifi>=2017.4.17 in /usr/local/lib/python3.6/dist-packages (from requests->ipstack) (2020.6.20)\n",
            "Requirement already satisfied: chardet<4,>=3.0.2 in /usr/local/lib/python3.6/dist-packages (from requests->ipstack) (3.0.4)\n",
            "Requirement already satisfied: idna<3,>=2.5 in /usr/local/lib/python3.6/dist-packages (from requests->ipstack) (2.10)\n",
            "Installing collected packages: ipstack\n",
            "Successfully installed ipstack-0.1.4\n"
          ],
          "name": "stdout"
        }
      ]
    },
    {
      "cell_type": "code",
      "metadata": {
        "id": "U8KuZlM7IDId",
        "outputId": "77bc539e-7adb-4eb7-ea1e-83c5e046e820",
        "colab": {
          "base_uri": "https://localhost:8080/"
        }
      },
      "source": [
        "import pandas as pd  # Import the panda package\n",
        "import numpy as np # Import the numpy package\n",
        "\n",
        "from ipstack import GeoLookup\n",
        "\n",
        "geo_lookup = GeoLookup(\"0cbeddca8c7f050ead7d6eff52a73bb4\")\n",
        "\n",
        "ip = [\"110.159.38.126\", \"54.151.170.57\", \"110.159.38.180\"]\n",
        "for x in ip:\n",
        "  location = geo_lookup.get_location(x)\n",
        "  address = location['city']\n",
        "# print(ipadd, address)\n",
        "\n",
        "  datastr = str(ip.index(x))+\",\"+address+\",\"+x+\";\"\n",
        "  print(datastr)"
      ],
      "execution_count": 6,
      "outputs": [
        {
          "output_type": "stream",
          "text": [
            "0,Kuala Lumpur,110.159.38.126;\n",
            "1,Singapore,54.151.170.57;\n",
            "2,Kuala Lumpur,110.159.38.180;\n"
          ],
          "name": "stdout"
        }
      ]
    },
    {
      "cell_type": "markdown",
      "metadata": {
        "id": "bJr8HT-fItO1"
      },
      "source": [
        "Import GoogleAuth and GoogleDrive functions for authentication."
      ]
    },
    {
      "cell_type": "code",
      "metadata": {
        "id": "cqTSgCosIsNv"
      },
      "source": [
        "from pydrive.auth import GoogleAuth\n",
        "from pydrive.drive import GoogleDrive\n",
        "from google.colab import auth\n",
        "from oauth2client.client import GoogleCredentials"
      ],
      "execution_count": 7,
      "outputs": []
    },
    {
      "cell_type": "markdown",
      "metadata": {
        "id": "C-QQqHUtJQg3"
      },
      "source": [
        "Authenticate and create the PyDrive client."
      ]
    },
    {
      "cell_type": "code",
      "metadata": {
        "id": "JP8eMNe_JgZO"
      },
      "source": [
        "auth.authenticate_user()\n",
        "gauth = GoogleAuth()\n",
        "gauth.credentials = GoogleCredentials.get_application_default()\n",
        "drive = GoogleDrive(gauth)"
      ],
      "execution_count": 8,
      "outputs": []
    },
    {
      "cell_type": "markdown",
      "metadata": {
        "id": "u9fZ8UPzJjya"
      },
      "source": [
        "Create and upload a CSV file."
      ]
    },
    {
      "cell_type": "code",
      "metadata": {
        "id": "iYQitA9TJhgK",
        "outputId": "05cd6e75-3c9a-42bc-f519-72fee0537e00",
        "colab": {
          "base_uri": "https://localhost:8080/"
        }
      },
      "source": [
        "uploaded = drive.CreateFile({'title': 'bigipdata.csv'})\n",
        "uploaded.SetContentString(datastr)\n",
        "uploaded.Upload()\n",
        "print('Uploaded file with ID {}'.format(uploaded.get('id')))"
      ],
      "execution_count": 9,
      "outputs": [
        {
          "output_type": "stream",
          "text": [
            "Uploaded file with ID 1wnJqn_cD3QPOex4fRrufIPzMUFfIK1WW\n"
          ],
          "name": "stdout"
        }
      ]
    }
  ]
}